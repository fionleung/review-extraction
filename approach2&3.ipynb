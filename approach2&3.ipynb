{
 "cells": [
  {
   "cell_type": "code",
   "execution_count": 25,
   "metadata": {},
   "outputs": [],
   "source": [
    "import sys\n",
    "import warnings\n",
    "\n",
    "if not sys.warnoptions:\n",
    "    warnings.simplefilter(\"ignore\")"
   ]
  },
  {
   "cell_type": "code",
   "execution_count": 1,
   "metadata": {},
   "outputs": [],
   "source": [
    "import json \n",
    "import pandas as pd \n",
    "from pandas.io.json import json_normalize #package for flattening json in pandas df\n",
    "\n",
    "#load json object\n",
    "    \n",
    "json_data = ''\n",
    "\n",
    "with open('yelp_dataset/review.json', 'r', encoding='utf-8') as in_file:\n",
    "    for i, line in enumerate(in_file):\n",
    "        if i == 0 and line: \n",
    "            json_data += '[' + line\n",
    "        elif line:\n",
    "            json_data += ',' + line\n",
    "        else:\n",
    "            pass\n",
    "    json_data += ']\\n'\n",
    "\n",
    "data = json.loads(json_data)\n",
    "review_df = json_normalize(data)\n"
   ]
  },
  {
   "cell_type": "code",
   "execution_count": 2,
   "metadata": {},
   "outputs": [],
   "source": [
    "import json \n",
    "import pandas as pd \n",
    "from pandas.io.json import json_normalize #package for flattening json in pandas df\n",
    "\n",
    "#load json object\n",
    "    \n",
    "json_data = ''\n",
    "\n",
    "with open('yelp_dataset/business.json', 'r', encoding='utf-8') as in_file:\n",
    "    for i, line in enumerate(in_file):\n",
    "        if i == 0 and line: \n",
    "            json_data += '[' + line\n",
    "        elif line:\n",
    "            json_data += ',' + line\n",
    "        else:\n",
    "            pass\n",
    "    json_data += ']\\n'\n",
    "\n",
    "data = json.loads(json_data)\n",
    "df = json_normalize(data)\n"
   ]
  },
  {
   "cell_type": "code",
   "execution_count": 3,
   "metadata": {},
   "outputs": [
    {
     "data": {
      "text/html": [
       "<div>\n",
       "<style scoped>\n",
       "    .dataframe tbody tr th:only-of-type {\n",
       "        vertical-align: middle;\n",
       "    }\n",
       "\n",
       "    .dataframe tbody tr th {\n",
       "        vertical-align: top;\n",
       "    }\n",
       "\n",
       "    .dataframe thead th {\n",
       "        text-align: right;\n",
       "    }\n",
       "</style>\n",
       "<table border=\"1\" class=\"dataframe\">\n",
       "  <thead>\n",
       "    <tr style=\"text-align: right;\">\n",
       "      <th></th>\n",
       "      <th>categories</th>\n",
       "      <th>business_id</th>\n",
       "    </tr>\n",
       "  </thead>\n",
       "  <tbody>\n",
       "    <tr>\n",
       "      <th>1</th>\n",
       "      <td>Specialty Food, Restaurants, Dim Sum, Imported...</td>\n",
       "      <td>QXAEGFB4oINsVuTFxEYKFQ</td>\n",
       "    </tr>\n",
       "    <tr>\n",
       "      <th>2</th>\n",
       "      <td>Sushi Bars, Restaurants, Japanese</td>\n",
       "      <td>gnKjwL_1w79qoiV3IC_xQQ</td>\n",
       "    </tr>\n",
       "    <tr>\n",
       "      <th>11</th>\n",
       "      <td>Restaurants, Breakfast &amp; Brunch, Mexican, Taco...</td>\n",
       "      <td>1Dfx3zM-rW4n-31KeC8sJg</td>\n",
       "    </tr>\n",
       "    <tr>\n",
       "      <th>13</th>\n",
       "      <td>Italian, Restaurants, Pizza, Chicken Wings</td>\n",
       "      <td>fweCYi8FmbJXHCqLnwuk8w</td>\n",
       "    </tr>\n",
       "    <tr>\n",
       "      <th>17</th>\n",
       "      <td>Restaurants, Italian</td>\n",
       "      <td>PZ-LZzSlhSe9utkQYU8pFg</td>\n",
       "    </tr>\n",
       "  </tbody>\n",
       "</table>\n",
       "</div>"
      ],
      "text/plain": [
       "                                           categories             business_id\n",
       "1   Specialty Food, Restaurants, Dim Sum, Imported...  QXAEGFB4oINsVuTFxEYKFQ\n",
       "2                   Sushi Bars, Restaurants, Japanese  gnKjwL_1w79qoiV3IC_xQQ\n",
       "11  Restaurants, Breakfast & Brunch, Mexican, Taco...  1Dfx3zM-rW4n-31KeC8sJg\n",
       "13         Italian, Restaurants, Pizza, Chicken Wings  fweCYi8FmbJXHCqLnwuk8w\n",
       "17                               Restaurants, Italian  PZ-LZzSlhSe9utkQYU8pFg"
      ]
     },
     "execution_count": 3,
     "metadata": {},
     "output_type": "execute_result"
    }
   ],
   "source": [
    "temp = df.categories.apply(lambda categories: str(categories))\n",
    "restaurant_df = df[temp.apply(lambda categories: 'Restaurants' in categories)][['categories',\"business_id\"]]\n",
    "restaurant_df.head()\n"
   ]
  },
  {
   "cell_type": "code",
   "execution_count": 4,
   "metadata": {},
   "outputs": [],
   "source": [
    "res_review = pd.merge(review_df,restaurant_df,on = 'business_id', how = 'left', sort = False)\n",
    "res_review=res_review.fillna(0)\n"
   ]
  },
  {
   "cell_type": "code",
   "execution_count": 5,
   "metadata": {},
   "outputs": [
    {
     "data": {
      "text/plain": [
       "(6685900, 10)"
      ]
     },
     "execution_count": 5,
     "metadata": {},
     "output_type": "execute_result"
    }
   ],
   "source": [
    "res_review.shape\n"
   ]
  },
  {
   "cell_type": "code",
   "execution_count": 6,
   "metadata": {},
   "outputs": [],
   "source": [
    "restaurant_r=res_review[res_review.categories!=0]\n"
   ]
  },
  {
   "cell_type": "code",
   "execution_count": 7,
   "metadata": {},
   "outputs": [
    {
     "data": {
      "text/plain": [
       "(4201684, 10)"
      ]
     },
     "execution_count": 7,
     "metadata": {},
     "output_type": "execute_result"
    }
   ],
   "source": [
    "restaurant_r.shape\n"
   ]
  },
  {
   "cell_type": "code",
   "execution_count": 63,
   "metadata": {},
   "outputs": [
    {
     "data": {
      "text/html": [
       "<div>\n",
       "<style scoped>\n",
       "    .dataframe tbody tr th:only-of-type {\n",
       "        vertical-align: middle;\n",
       "    }\n",
       "\n",
       "    .dataframe tbody tr th {\n",
       "        vertical-align: top;\n",
       "    }\n",
       "\n",
       "    .dataframe thead th {\n",
       "        text-align: right;\n",
       "    }\n",
       "</style>\n",
       "<table border=\"1\" class=\"dataframe\">\n",
       "  <thead>\n",
       "    <tr style=\"text-align: right;\">\n",
       "      <th></th>\n",
       "      <th>business_id</th>\n",
       "      <th>cool</th>\n",
       "      <th>date</th>\n",
       "      <th>funny</th>\n",
       "      <th>review_id</th>\n",
       "      <th>stars</th>\n",
       "      <th>text</th>\n",
       "      <th>useful</th>\n",
       "      <th>user_id</th>\n",
       "      <th>categories</th>\n",
       "    </tr>\n",
       "  </thead>\n",
       "  <tbody>\n",
       "    <tr>\n",
       "      <th>3</th>\n",
       "      <td>ikCg8xy5JIg_NGPx-MSIDA</td>\n",
       "      <td>0</td>\n",
       "      <td>2018-01-09 20:56:38</td>\n",
       "      <td>0</td>\n",
       "      <td>yi0R0Ugj_xUx_Nek0-_Qig</td>\n",
       "      <td>5.0</td>\n",
       "      <td>Went in for a lunch. Steak sandwich was delici...</td>\n",
       "      <td>0</td>\n",
       "      <td>dacAIZ6fTM6mqwW5uxkskg</td>\n",
       "      <td>Bars, Pubs, Nightlife, Tapas Bars, Restaurants</td>\n",
       "    </tr>\n",
       "    <tr>\n",
       "      <th>5</th>\n",
       "      <td>eU_713ec6fTGNO4BegRaww</td>\n",
       "      <td>0</td>\n",
       "      <td>2013-01-20 13:25:59</td>\n",
       "      <td>0</td>\n",
       "      <td>fdiNeiN_hoCxCMy2wTRW9g</td>\n",
       "      <td>4.0</td>\n",
       "      <td>I'll be the first to admit that I was not exci...</td>\n",
       "      <td>0</td>\n",
       "      <td>w31MKYsNFMrjhWxxAb5wIw</td>\n",
       "      <td>Restaurants, Italian, Pizza</td>\n",
       "    </tr>\n",
       "    <tr>\n",
       "      <th>6</th>\n",
       "      <td>3fw2X5bZYeW9xCz_zGhOHg</td>\n",
       "      <td>5</td>\n",
       "      <td>2016-05-07 01:21:02</td>\n",
       "      <td>4</td>\n",
       "      <td>G7XHMxG0bx9oBJNECG4IFg</td>\n",
       "      <td>3.0</td>\n",
       "      <td>Tracy dessert had a big name in Hong Kong and ...</td>\n",
       "      <td>5</td>\n",
       "      <td>jlu4CztcSxrKx56ba1a5AQ</td>\n",
       "      <td>Food, Chinese, Restaurants, Desserts</td>\n",
       "    </tr>\n",
       "    <tr>\n",
       "      <th>7</th>\n",
       "      <td>zvO-PJCpNk4fgAVUnExYAA</td>\n",
       "      <td>1</td>\n",
       "      <td>2010-10-05 19:12:35</td>\n",
       "      <td>1</td>\n",
       "      <td>8e9HxxLjjqc9ez5ezzN7iQ</td>\n",
       "      <td>1.0</td>\n",
       "      <td>This place has gone down hill.  Clearly they h...</td>\n",
       "      <td>3</td>\n",
       "      <td>d6xvYpyzcfbF_AZ8vMB7QA</td>\n",
       "      <td>Sports Bars, Bars, Restaurants, American (New)...</td>\n",
       "    </tr>\n",
       "    <tr>\n",
       "      <th>10</th>\n",
       "      <td>8mIrX_LrOnAqWsB5JrOojQ</td>\n",
       "      <td>0</td>\n",
       "      <td>2011-11-30 02:11:15</td>\n",
       "      <td>0</td>\n",
       "      <td>kbtscdyz6lvrtGjD1quQTg</td>\n",
       "      <td>4.0</td>\n",
       "      <td>Like walking back in time, every Saturday morn...</td>\n",
       "      <td>0</td>\n",
       "      <td>FIk4lQQu1eTe2EpzQ4xhBA</td>\n",
       "      <td>Performing Arts, Amusement Parks, Museums, Arc...</td>\n",
       "    </tr>\n",
       "    <tr>\n",
       "      <th>11</th>\n",
       "      <td>mRUVMJkUGxrByzMQ2MuOpA</td>\n",
       "      <td>0</td>\n",
       "      <td>2017-12-15 23:27:08</td>\n",
       "      <td>1</td>\n",
       "      <td>-I5umRTkhw15RqpKMl_o1Q</td>\n",
       "      <td>1.0</td>\n",
       "      <td>Walked in around 4 on a Friday afternoon, we s...</td>\n",
       "      <td>0</td>\n",
       "      <td>-mA3-1mN4JIEkqOtdbNXCQ</td>\n",
       "      <td>Restaurants, Breakfast &amp; Brunch, Burgers, Amer...</td>\n",
       "    </tr>\n",
       "    <tr>\n",
       "      <th>12</th>\n",
       "      <td>FxLfqxdYPA6Z85PFKaqLrg</td>\n",
       "      <td>0</td>\n",
       "      <td>2016-05-07 01:36:53</td>\n",
       "      <td>0</td>\n",
       "      <td>Z7wgXp98wYB57QdRY3HQ3w</td>\n",
       "      <td>4.0</td>\n",
       "      <td>Wow. So surprised at the one and two star revi...</td>\n",
       "      <td>0</td>\n",
       "      <td>GYNnVehQeXjty0xH7-6Fhw</td>\n",
       "      <td>Italian, Salad, Restaurants, Gluten-Free</td>\n",
       "    </tr>\n",
       "    <tr>\n",
       "      <th>14</th>\n",
       "      <td>AakkkTuGZA2KBodKi2_u8A</td>\n",
       "      <td>0</td>\n",
       "      <td>2012-07-16 00:37:14</td>\n",
       "      <td>1</td>\n",
       "      <td>JVcjMhlavKKn3UIt9p9OXA</td>\n",
       "      <td>1.0</td>\n",
       "      <td>I cannot believe how things have changed in 3 ...</td>\n",
       "      <td>1</td>\n",
       "      <td>TpyOT5E16YASd7EWjLQlrw</td>\n",
       "      <td>Asian Fusion, Restaurants, Vietnamese</td>\n",
       "    </tr>\n",
       "    <tr>\n",
       "      <th>15</th>\n",
       "      <td>YvrylyuWgbP90RgMqZQVnQ</td>\n",
       "      <td>0</td>\n",
       "      <td>2017-04-07 21:27:49</td>\n",
       "      <td>0</td>\n",
       "      <td>svK3nBU7Rk8VfGorlrN52A</td>\n",
       "      <td>5.0</td>\n",
       "      <td>You can't really find anything wrong with this...</td>\n",
       "      <td>0</td>\n",
       "      <td>NJlxGtouq06hhC7sS2ECYw</td>\n",
       "      <td>Sandwiches, Restaurants, Italian, Pizza</td>\n",
       "    </tr>\n",
       "    <tr>\n",
       "      <th>16</th>\n",
       "      <td>NyLYY8q1-H3hfsTwuwLPCg</td>\n",
       "      <td>0</td>\n",
       "      <td>2015-01-03 22:47:34</td>\n",
       "      <td>0</td>\n",
       "      <td>1wVA2-vQIuW_ClmXkDxqMQ</td>\n",
       "      <td>4.0</td>\n",
       "      <td>Great lunch today. Staff was very helpful in a...</td>\n",
       "      <td>0</td>\n",
       "      <td>86J5DwcFk4f4In1Vxe2TvA</td>\n",
       "      <td>Fast Food, Vegetarian, Restaurants, Vegan, Indian</td>\n",
       "    </tr>\n",
       "    <tr>\n",
       "      <th>17</th>\n",
       "      <td>cHdJXLlKNWixBXpDwEGb_A</td>\n",
       "      <td>1</td>\n",
       "      <td>2015-04-01 16:30:00</td>\n",
       "      <td>7</td>\n",
       "      <td>6BnQwlxRn7ZuWdzninM9sQ</td>\n",
       "      <td>3.0</td>\n",
       "      <td>I love chinese food and I love mexican food. W...</td>\n",
       "      <td>1</td>\n",
       "      <td>JSrP-dUmLlwZiI7Dp3PQ2A</td>\n",
       "      <td>Caribbean, Szechuan, Mexican, Restaurants, Chi...</td>\n",
       "    </tr>\n",
       "    <tr>\n",
       "      <th>18</th>\n",
       "      <td>6lj2BJ4tJeu7db5asGHQ4w</td>\n",
       "      <td>0</td>\n",
       "      <td>2017-05-26 01:23:19</td>\n",
       "      <td>0</td>\n",
       "      <td>rEITo90tpyKmEfNDp3Ou3A</td>\n",
       "      <td>5.0</td>\n",
       "      <td>We've been a huge Slim's fan since they opened...</td>\n",
       "      <td>0</td>\n",
       "      <td>6Fz_nus_OG4gar721OKgZA</td>\n",
       "      <td>Sandwiches, Restaurants, Southern, Chicken Wings</td>\n",
       "    </tr>\n",
       "    <tr>\n",
       "      <th>19</th>\n",
       "      <td>y-Iw6dZflNix4BdwIyTNGA</td>\n",
       "      <td>0</td>\n",
       "      <td>2014-06-27 21:19:23</td>\n",
       "      <td>0</td>\n",
       "      <td>4bUyL7lzoWzDZaJETAKREg</td>\n",
       "      <td>3.0</td>\n",
       "      <td>Good selection of classes of beers and mains. ...</td>\n",
       "      <td>0</td>\n",
       "      <td>_N7Ndn29bpll_961oPeEfw</td>\n",
       "      <td>Restaurants, Food, Breweries, Gastropubs, Pizza</td>\n",
       "    </tr>\n",
       "    <tr>\n",
       "      <th>20</th>\n",
       "      <td>qx6WhZ42eDKmBchZDax4dQ</td>\n",
       "      <td>0</td>\n",
       "      <td>2017-03-27 01:14:37</td>\n",
       "      <td>0</td>\n",
       "      <td>Amo5gZBvCuPc_tZNpHwtsA</td>\n",
       "      <td>5.0</td>\n",
       "      <td>Our family LOVES the food here. Quick, friendl...</td>\n",
       "      <td>1</td>\n",
       "      <td>DzZ7piLBF-WsJxqosfJgtA</td>\n",
       "      <td>Pizza, Italian, Restaurants, Desserts, Food, S...</td>\n",
       "    </tr>\n",
       "    <tr>\n",
       "      <th>21</th>\n",
       "      <td>Mem13A3C202RzT53npn4NA</td>\n",
       "      <td>9</td>\n",
       "      <td>2017-05-13 10:41:43</td>\n",
       "      <td>6</td>\n",
       "      <td>IPw8yWiyqnfBzzWmypUHgg</td>\n",
       "      <td>5.0</td>\n",
       "      <td>If you are looking for the best pierogies in P...</td>\n",
       "      <td>9</td>\n",
       "      <td>5JVY32_bmTBfIGpCCsnAfw</td>\n",
       "      <td>Caterers, Polish, Event Planning &amp; Services, R...</td>\n",
       "    </tr>\n",
       "    <tr>\n",
       "      <th>22</th>\n",
       "      <td>I4Nr-MVc26qWr08-S3Q1ow</td>\n",
       "      <td>0</td>\n",
       "      <td>2016-01-17 05:26:22</td>\n",
       "      <td>0</td>\n",
       "      <td>IByf6mVY0WA838XNSh-5MA</td>\n",
       "      <td>4.0</td>\n",
       "      <td>The food is always good and the prices are rea...</td>\n",
       "      <td>0</td>\n",
       "      <td>3CJUJILq7CLHk_9OrvpvQg</td>\n",
       "      <td>Delis, Sandwiches, Pizza, Restaurants</td>\n",
       "    </tr>\n",
       "    <tr>\n",
       "      <th>23</th>\n",
       "      <td>d_L-rfS1vT3JMzgCUGtiow</td>\n",
       "      <td>0</td>\n",
       "      <td>2016-07-25 03:57:19</td>\n",
       "      <td>0</td>\n",
       "      <td>S337tATeouQJdoPYyir29w</td>\n",
       "      <td>5.0</td>\n",
       "      <td>Pick any meat on the planet and the chef will ...</td>\n",
       "      <td>0</td>\n",
       "      <td>2mxBNBeFrgDszqGS5tdEHA</td>\n",
       "      <td>Breakfast &amp; Brunch, Restaurants, Tapas/Small P...</td>\n",
       "    </tr>\n",
       "    <tr>\n",
       "      <th>24</th>\n",
       "      <td>Sfc8Haz2Yri8Mo1L0E0TsA</td>\n",
       "      <td>0</td>\n",
       "      <td>2012-11-06 03:41:43</td>\n",
       "      <td>0</td>\n",
       "      <td>D_UvaenM25iNd6aehTZ0MA</td>\n",
       "      <td>5.0</td>\n",
       "      <td>Great food, great service. Obviously fried chi...</td>\n",
       "      <td>0</td>\n",
       "      <td>8NwU4TRsD3S6gIfBqFzDMQ</td>\n",
       "      <td>Chicken Wings, Burgers, Restaurants</td>\n",
       "    </tr>\n",
       "    <tr>\n",
       "      <th>27</th>\n",
       "      <td>Gyrez6K8f1AyR7dzW9fvAw</td>\n",
       "      <td>1</td>\n",
       "      <td>2013-12-28 22:28:08</td>\n",
       "      <td>0</td>\n",
       "      <td>qm97yMwREr7BKkexlwLFbg</td>\n",
       "      <td>5.0</td>\n",
       "      <td>their pettuccine was fresh-made in the morning...</td>\n",
       "      <td>0</td>\n",
       "      <td>TTRVdTXKcq-xn6-1IWbwEw</td>\n",
       "      <td>Restaurants, Tapas Bars, Mediterranean, Italian</td>\n",
       "    </tr>\n",
       "    <tr>\n",
       "      <th>28</th>\n",
       "      <td>9nTF596jDvBBia2EXXiOOg</td>\n",
       "      <td>0</td>\n",
       "      <td>2014-04-19 15:03:17</td>\n",
       "      <td>0</td>\n",
       "      <td>1daGBpea0sleayFeeXuoYw</td>\n",
       "      <td>1.0</td>\n",
       "      <td>if i can give this place no stars i would, i o...</td>\n",
       "      <td>1</td>\n",
       "      <td>q3GeSW9dWN9r_ocqFkhrvg</td>\n",
       "      <td>Bubble Tea, Juice Bars &amp; Smoothies, Taiwanese,...</td>\n",
       "    </tr>\n",
       "  </tbody>\n",
       "</table>\n",
       "</div>"
      ],
      "text/plain": [
       "               business_id  cool                 date  funny  \\\n",
       "3   ikCg8xy5JIg_NGPx-MSIDA     0  2018-01-09 20:56:38      0   \n",
       "5   eU_713ec6fTGNO4BegRaww     0  2013-01-20 13:25:59      0   \n",
       "6   3fw2X5bZYeW9xCz_zGhOHg     5  2016-05-07 01:21:02      4   \n",
       "7   zvO-PJCpNk4fgAVUnExYAA     1  2010-10-05 19:12:35      1   \n",
       "10  8mIrX_LrOnAqWsB5JrOojQ     0  2011-11-30 02:11:15      0   \n",
       "11  mRUVMJkUGxrByzMQ2MuOpA     0  2017-12-15 23:27:08      1   \n",
       "12  FxLfqxdYPA6Z85PFKaqLrg     0  2016-05-07 01:36:53      0   \n",
       "14  AakkkTuGZA2KBodKi2_u8A     0  2012-07-16 00:37:14      1   \n",
       "15  YvrylyuWgbP90RgMqZQVnQ     0  2017-04-07 21:27:49      0   \n",
       "16  NyLYY8q1-H3hfsTwuwLPCg     0  2015-01-03 22:47:34      0   \n",
       "17  cHdJXLlKNWixBXpDwEGb_A     1  2015-04-01 16:30:00      7   \n",
       "18  6lj2BJ4tJeu7db5asGHQ4w     0  2017-05-26 01:23:19      0   \n",
       "19  y-Iw6dZflNix4BdwIyTNGA     0  2014-06-27 21:19:23      0   \n",
       "20  qx6WhZ42eDKmBchZDax4dQ     0  2017-03-27 01:14:37      0   \n",
       "21  Mem13A3C202RzT53npn4NA     9  2017-05-13 10:41:43      6   \n",
       "22  I4Nr-MVc26qWr08-S3Q1ow     0  2016-01-17 05:26:22      0   \n",
       "23  d_L-rfS1vT3JMzgCUGtiow     0  2016-07-25 03:57:19      0   \n",
       "24  Sfc8Haz2Yri8Mo1L0E0TsA     0  2012-11-06 03:41:43      0   \n",
       "27  Gyrez6K8f1AyR7dzW9fvAw     1  2013-12-28 22:28:08      0   \n",
       "28  9nTF596jDvBBia2EXXiOOg     0  2014-04-19 15:03:17      0   \n",
       "\n",
       "                 review_id  stars  \\\n",
       "3   yi0R0Ugj_xUx_Nek0-_Qig    5.0   \n",
       "5   fdiNeiN_hoCxCMy2wTRW9g    4.0   \n",
       "6   G7XHMxG0bx9oBJNECG4IFg    3.0   \n",
       "7   8e9HxxLjjqc9ez5ezzN7iQ    1.0   \n",
       "10  kbtscdyz6lvrtGjD1quQTg    4.0   \n",
       "11  -I5umRTkhw15RqpKMl_o1Q    1.0   \n",
       "12  Z7wgXp98wYB57QdRY3HQ3w    4.0   \n",
       "14  JVcjMhlavKKn3UIt9p9OXA    1.0   \n",
       "15  svK3nBU7Rk8VfGorlrN52A    5.0   \n",
       "16  1wVA2-vQIuW_ClmXkDxqMQ    4.0   \n",
       "17  6BnQwlxRn7ZuWdzninM9sQ    3.0   \n",
       "18  rEITo90tpyKmEfNDp3Ou3A    5.0   \n",
       "19  4bUyL7lzoWzDZaJETAKREg    3.0   \n",
       "20  Amo5gZBvCuPc_tZNpHwtsA    5.0   \n",
       "21  IPw8yWiyqnfBzzWmypUHgg    5.0   \n",
       "22  IByf6mVY0WA838XNSh-5MA    4.0   \n",
       "23  S337tATeouQJdoPYyir29w    5.0   \n",
       "24  D_UvaenM25iNd6aehTZ0MA    5.0   \n",
       "27  qm97yMwREr7BKkexlwLFbg    5.0   \n",
       "28  1daGBpea0sleayFeeXuoYw    1.0   \n",
       "\n",
       "                                                 text  useful  \\\n",
       "3   Went in for a lunch. Steak sandwich was delici...       0   \n",
       "5   I'll be the first to admit that I was not exci...       0   \n",
       "6   Tracy dessert had a big name in Hong Kong and ...       5   \n",
       "7   This place has gone down hill.  Clearly they h...       3   \n",
       "10  Like walking back in time, every Saturday morn...       0   \n",
       "11  Walked in around 4 on a Friday afternoon, we s...       0   \n",
       "12  Wow. So surprised at the one and two star revi...       0   \n",
       "14  I cannot believe how things have changed in 3 ...       1   \n",
       "15  You can't really find anything wrong with this...       0   \n",
       "16  Great lunch today. Staff was very helpful in a...       0   \n",
       "17  I love chinese food and I love mexican food. W...       1   \n",
       "18  We've been a huge Slim's fan since they opened...       0   \n",
       "19  Good selection of classes of beers and mains. ...       0   \n",
       "20  Our family LOVES the food here. Quick, friendl...       1   \n",
       "21  If you are looking for the best pierogies in P...       9   \n",
       "22  The food is always good and the prices are rea...       0   \n",
       "23  Pick any meat on the planet and the chef will ...       0   \n",
       "24  Great food, great service. Obviously fried chi...       0   \n",
       "27  their pettuccine was fresh-made in the morning...       0   \n",
       "28  if i can give this place no stars i would, i o...       1   \n",
       "\n",
       "                   user_id                                         categories  \n",
       "3   dacAIZ6fTM6mqwW5uxkskg     Bars, Pubs, Nightlife, Tapas Bars, Restaurants  \n",
       "5   w31MKYsNFMrjhWxxAb5wIw                        Restaurants, Italian, Pizza  \n",
       "6   jlu4CztcSxrKx56ba1a5AQ               Food, Chinese, Restaurants, Desserts  \n",
       "7   d6xvYpyzcfbF_AZ8vMB7QA  Sports Bars, Bars, Restaurants, American (New)...  \n",
       "10  FIk4lQQu1eTe2EpzQ4xhBA  Performing Arts, Amusement Parks, Museums, Arc...  \n",
       "11  -mA3-1mN4JIEkqOtdbNXCQ  Restaurants, Breakfast & Brunch, Burgers, Amer...  \n",
       "12  GYNnVehQeXjty0xH7-6Fhw           Italian, Salad, Restaurants, Gluten-Free  \n",
       "14  TpyOT5E16YASd7EWjLQlrw              Asian Fusion, Restaurants, Vietnamese  \n",
       "15  NJlxGtouq06hhC7sS2ECYw            Sandwiches, Restaurants, Italian, Pizza  \n",
       "16  86J5DwcFk4f4In1Vxe2TvA  Fast Food, Vegetarian, Restaurants, Vegan, Indian  \n",
       "17  JSrP-dUmLlwZiI7Dp3PQ2A  Caribbean, Szechuan, Mexican, Restaurants, Chi...  \n",
       "18  6Fz_nus_OG4gar721OKgZA   Sandwiches, Restaurants, Southern, Chicken Wings  \n",
       "19  _N7Ndn29bpll_961oPeEfw    Restaurants, Food, Breweries, Gastropubs, Pizza  \n",
       "20  DzZ7piLBF-WsJxqosfJgtA  Pizza, Italian, Restaurants, Desserts, Food, S...  \n",
       "21  5JVY32_bmTBfIGpCCsnAfw  Caterers, Polish, Event Planning & Services, R...  \n",
       "22  3CJUJILq7CLHk_9OrvpvQg              Delis, Sandwiches, Pizza, Restaurants  \n",
       "23  2mxBNBeFrgDszqGS5tdEHA  Breakfast & Brunch, Restaurants, Tapas/Small P...  \n",
       "24  8NwU4TRsD3S6gIfBqFzDMQ                Chicken Wings, Burgers, Restaurants  \n",
       "27  TTRVdTXKcq-xn6-1IWbwEw    Restaurants, Tapas Bars, Mediterranean, Italian  \n",
       "28  q3GeSW9dWN9r_ocqFkhrvg  Bubble Tea, Juice Bars & Smoothies, Taiwanese,...  "
      ]
     },
     "execution_count": 63,
     "metadata": {},
     "output_type": "execute_result"
    }
   ],
   "source": [
    "restaurant_r[:20]\n"
   ]
  },
  {
   "cell_type": "markdown",
   "metadata": {},
   "source": [
    "# Approach 2 using DBSCAN"
   ]
  },
  {
   "cell_type": "code",
   "execution_count": 9,
   "metadata": {},
   "outputs": [],
   "source": [
    "import re\n",
    "import string\n",
    "char_splitter = re.compile(\"[.,;!:()-]?\")\n",
    "def generate_candidate_phrases(text, stopwords):\n",
    "    coarse_candidates = char_splitter.split(text.lower())\n",
    "    candidate_phrases = []\n",
    "    word=\"\"\n",
    "    n=0\n",
    "\n",
    "    for coarse_phrase in coarse_candidates:\n",
    "        words=re.split(\"\\\\s+\", coarse_phrase.strip())\n",
    "        previous_stop = False\n",
    "        start=True\n",
    "        for w in words:\n",
    "\n",
    "            w=w.translate(str.maketrans('', '', string.punctuation))\n",
    "            if w in stopwords and not previous_stop:\n",
    "\n",
    "                # phrase boundary encountered, so put a hard indicator\n",
    "                if n>1:          \n",
    "                    candidate_phrases.append(word)\n",
    "                previous_stop = True\n",
    "                word=\"\"\n",
    "                n=0\n",
    "            elif w in stopwords and previous_stop:\n",
    "\n",
    "                word=\"\"\n",
    "                n=0\n",
    "            elif w not in stopwords and len(w) > 3:\n",
    "                # keep adding words to list until a phrase boundary is detected\n",
    "                if start==True:\n",
    "                    n=1\n",
    "                    start=False\n",
    "                elif previous_stop==False:\n",
    "                    w=\"_\"+w\n",
    "                    n=n+1   \n",
    "                else:\n",
    "                    n=1\n",
    "                word+=w\n",
    "                previous_stop = False\n",
    "\n",
    "\n",
    "\n",
    "    if n>1:\n",
    "        candidate_phrases.append(word)\n",
    "\n",
    "    return candidate_phrases"
   ]
  },
  {
   "cell_type": "code",
   "execution_count": 10,
   "metadata": {},
   "outputs": [],
   "source": [
    "import spacy\n",
    "sp = spacy.load('en') \n",
    "stop=list(sp.Defaults.stop_words) \n",
    "stop.append(\"said\")\n",
    "stop.append(\"came\")\n",
    "stop.append(\"tell\")\n",
    "stop.append(\"told\")\n",
    "stop.append(\"when\")\n",
    "stop.append(\"maybe\")\n",
    "stop.append(\"sure\")\n",
    "stop.append(\"like\")\n",
    "stop.append(\"it's\")\n",
    "stop.append(\"i'm\")\n",
    "stop.append(\"ask\")\n",
    "stop.append(\"asked\")\n",
    "stop.append(\"you're\")\n",
    "stop.append(\"youre\")\n",
    "stop.remove(\"not\")"
   ]
  },
  {
   "cell_type": "code",
   "execution_count": 340,
   "metadata": {},
   "outputs": [],
   "source": [
    "from wordcloud import WordCloud, STOPWORDS\n",
    "import matplotlib.pyplot as plt\n",
    "stopwords = set(STOPWORDS)\n",
    "\n",
    "def show_wordcloud(data, title = None):\n",
    "    wordcloud = WordCloud(\n",
    "        background_color='white',\n",
    "        stopwords=stopwords,\n",
    "        max_words=300,\n",
    "        max_font_size=40, \n",
    "        scale=3,\n",
    "        random_state=3 # chosen at random by flipping a coin; it was heads\n",
    "    ).generate(str(data))\n",
    "\n",
    "    fig = plt.figure(1, figsize=(12, 12))\n",
    "    plt.axis('off')\n",
    "    if title: \n",
    "        fig.suptitle(title, fontsize=20)\n",
    "        fig.subplots_adjust(top=2.3)\n",
    "\n",
    "    plt.imshow(wordcloud)\n",
    "    plt.show()\n",
    "    "
   ]
  },
  {
   "cell_type": "code",
   "execution_count": 341,
   "metadata": {},
   "outputs": [
    {
     "data": {
      "image/png": "[encoded data removed]",
      "text/plain": [
       "<Figure size 864x864 with 1 Axes>"
      ]
     },
     "metadata": {
      "needs_background": "light"
     },
     "output_type": "display_data"
    }
   ],
   "source": [
    "show_wordcloud(cnt)"
   ]
  },
  {
   "cell_type": "code",
   "execution_count": 13,
   "metadata": {},
   "outputs": [
    {
     "name": "stderr",
     "output_type": "stream",
     "text": [
      "/Applications/anaconda3/lib/python3.6/site-packages/smart_open/ssh.py:34: UserWarning: paramiko missing, opening SSH/SCP/SFTP paths will be disabled.  `pip install paramiko` to suppress\n",
      "  warnings.warn('paramiko missing, opening SSH/SCP/SFTP paths will be disabled.  `pip install paramiko` to suppress')\n"
     ]
    },
    {
     "data": {
      "text/plain": [
       "(424461806, 684704060)"
      ]
     },
     "execution_count": 13,
     "metadata": {},
     "output_type": "execute_result"
    }
   ],
   "source": [
    "import gensim\n",
    "from gensim.models import Word2Vec\n",
    "model = gensim.models.Word2Vec(\n",
    "        p,\n",
    "        size=200,\n",
    "        window=10,\n",
    "        min_count=10,\n",
    "        alpha=0.02,\n",
    "        workers=10)\n",
    "model.train(p, total_examples=len(p), epochs=20)\n"
   ]
  },
  {
   "cell_type": "code",
   "execution_count": 14,
   "metadata": {},
   "outputs": [],
   "source": [
    "model.save(\"word2vec0507.model\")\n"
   ]
  },
  {
   "cell_type": "code",
   "execution_count": 16,
   "metadata": {},
   "outputs": [
    {
     "data": {
      "text/plain": [
       "[('incredibly_friendly', 0.43793678283691406),\n",
       " ('incredibly_nice', 0.3967793881893158),\n",
       " ('super_sweet', 0.3504594564437866),\n",
       " ('totally_love', 0.344701886177063),\n",
       " ('extremely_friendly', 0.3353217542171478),\n",
       " ('super_attentive', 0.3309912085533142),\n",
       " ('super_kind', 0.3247328996658325),\n",
       " ('super_helpful', 0.3221518397331238),\n",
       " ('super_welcoming', 0.3165372610092163),\n",
       " ('extra_friendly', 0.2960626482963562)]"
      ]
     },
     "execution_count": 16,
     "metadata": {},
     "output_type": "execute_result"
    }
   ],
   "source": [
    "model.wv.most_similar('super_friendly')\n"
   ]
  },
  {
   "cell_type": "code",
   "execution_count": 17,
   "metadata": {},
   "outputs": [
    {
     "data": {
      "text/plain": [
       "[('absolutely_recommend', 0.49285370111465454),\n",
       " ('highly_recommend_coming', 0.4794062674045563),\n",
       " ('perfecthighly_recommend', 0.43249964714050293),\n",
       " ('highly_recommend_trying', 0.4240497350692749),\n",
       " ('highlyhighly_recommend', 0.4170829653739929),\n",
       " ('definitely_recommended', 0.41526851058006287),\n",
       " ('certainly_recommend', 0.4100279211997986),\n",
       " ('betterhighly_recommend', 0.4098738431930542),\n",
       " ('greathighly_recommend', 0.40225037932395935),\n",
       " ('highly_recommend_dining', 0.40049290657043457)]"
      ]
     },
     "execution_count": 17,
     "metadata": {},
     "output_type": "execute_result"
    }
   ],
   "source": [
    "model.wv.most_similar('highly_recommend')"
   ]
  },
  {
   "cell_type": "code",
   "execution_count": 18,
   "metadata": {},
   "outputs": [
    {
     "data": {
      "text/plain": [
       "[('wasnt_stuffy', 0.4124598503112793),\n",
       " ('feel_welcomed', 0.40702223777770996),\n",
       " ('feel_welcome', 0.4026564359664917),\n",
       " ('felt_comfortable', 0.40066784620285034),\n",
       " ('positive_vibe', 0.38969099521636963),\n",
       " ('genuine_service', 0.3889769911766052),\n",
       " ('upbeat_attitude', 0.3855862319469452),\n",
       " ('feel_important', 0.38456448912620544),\n",
       " ('dont_feel_intimidated', 0.3840213119983673),\n",
       " ('great_sense', 0.38316071033477783)]"
      ]
     },
     "execution_count": 18,
     "metadata": {},
     "output_type": "execute_result"
    }
   ],
   "source": [
    "model.wv.most_similar('feel_comfortable')\n"
   ]
  },
  {
   "cell_type": "code",
   "execution_count": 15,
   "metadata": {},
   "outputs": [
    {
     "data": {
      "text/plain": [
       "[('totally_uncalled', 0.7248241901397705),\n",
       " ('absolutely_rude', 0.7183749079704285),\n",
       " ('worse_customer_service', 0.7062989473342896),\n",
       " ('rude_employees', 0.7037721872329712),\n",
       " ('rude_behavior', 0.7006328701972961),\n",
       " ('rude_people', 0.6993989944458008),\n",
       " ('horribly_rude', 0.699008584022522),\n",
       " ('zero_customer_service_skills', 0.6949117183685303),\n",
       " ('unprofessional_staff', 0.6940279006958008),\n",
       " ('rudest_person', 0.6913320422172546)]"
      ]
     },
     "execution_count": 15,
     "metadata": {},
     "output_type": "execute_result"
    }
   ],
   "source": [
    "model.wv.most_similar('rude_staff')\n"
   ]
  },
  {
   "cell_type": "code",
   "execution_count": 19,
   "metadata": {},
   "outputs": [
    {
     "data": {
      "text/plain": [
       "[('best_italian_restaurants', 0.8060793876647949),\n",
       " ('best_italian_restaurant', 0.7837958335876465),\n",
       " ('best_italian_food', 0.7674369812011719),\n",
       " ('real_italian_food', 0.7636591196060181),\n",
       " ('great_italian_food', 0.748543381690979),\n",
       " ('authentic_italian_food', 0.7351491451263428),\n",
       " ('authentic_italian_restaurant', 0.7335160970687866),\n",
       " ('good_italian_food', 0.7333191633224487),\n",
       " ('great_italian', 0.7318291664123535),\n",
       " ('good_italian', 0.7308597564697266)]"
      ]
     },
     "execution_count": 19,
     "metadata": {},
     "output_type": "execute_result"
    }
   ],
   "source": [
    "model.wv.most_similar('best_italian')\n"
   ]
  },
  {
   "cell_type": "code",
   "execution_count": 20,
   "metadata": {},
   "outputs": [
    {
     "data": {
      "text/plain": [
       "[('pretty_tender', 0.574741005897522),\n",
       " ('pretty_yummy', 0.5562341213226318),\n",
       " ('pretty_flavorful', 0.550381600856781),\n",
       " ('kinda_bland', 0.538796067237854),\n",
       " ('pretty_salty', 0.5339380502700806),\n",
       " ('tasted_pretty_good', 0.5323106050491333),\n",
       " ('overall_pretty_good', 0.5274693965911865),\n",
       " ('pretty_delicious', 0.5194615125656128),\n",
       " ('pretty_good_experience', 0.5179233551025391),\n",
       " ('okay_overall', 0.5143775343894958)]"
      ]
     },
     "execution_count": 20,
     "metadata": {},
     "output_type": "execute_result"
    }
   ],
   "source": [
    "model.wv.most_similar('pretty_good')\n"
   ]
  },
  {
   "cell_type": "code",
   "execution_count": 21,
   "metadata": {},
   "outputs": [
    {
     "data": {
      "text/plain": [
       "[('goodgreat_place', 0.5212652087211609),\n",
       " ('excellent_spot', 0.4757899045944214),\n",
       " ('placegreat_place', 0.46101465821266174),\n",
       " ('perfect_place', 0.45851147174835205),\n",
       " ('ideal_place', 0.457986056804657),\n",
       " ('friendlygreat_place', 0.451860249042511),\n",
       " ('excellentgreat_place', 0.4515021741390228),\n",
       " ('perfectgreat_place', 0.4467985928058624),\n",
       " ('deliciousgreat_place', 0.43668505549430847),\n",
       " ('nicegreat_place', 0.43252062797546387)]"
      ]
     },
     "execution_count": 21,
     "metadata": {},
     "output_type": "execute_result"
    }
   ],
   "source": [
    "model.wv.most_similar('great_place')"
   ]
  },
  {
   "cell_type": "markdown",
   "metadata": {},
   "source": [
    "# Approach 3"
   ]
  },
  {
   "cell_type": "code",
   "execution_count": 129,
   "metadata": {},
   "outputs": [],
   "source": [
    "from sklearn.cluster import DBSCAN\n",
    "from collections import Counter\n",
    "import numpy as np\n",
    "def get_predict(businessid):\n",
    "    test=res_review[\"text\"][res_review.business_id==businessid]\n",
    "    l=len(test)\n",
    "    if l<20:\n",
    "        minspl=2\n",
    "        eps=0.35\n",
    "    elif l<80:\n",
    "        minspl=3\n",
    "        eps=0.35\n",
    "    elif l<180:\n",
    "        minspl=5\n",
    "        eps=0.35\n",
    "    elif l<500:\n",
    "        minspl=6\n",
    "        eps=0.35\n",
    "    elif l<1000:\n",
    "        minspl=10\n",
    "        eps=0.35\n",
    "    elif l<1500:\n",
    "        minspl=12\n",
    "        eps=0.35\n",
    "    elif l<2000:\n",
    "        minspl=15\n",
    "        eps=0.35\n",
    "    else:\n",
    "        minspl=20\n",
    "        eps=0.35\n",
    "    return prediction(test,eps,minspl)\n",
    "\n",
    "def prediction(test,eps=0.3,minspl=5):\n",
    "    ##get data \n",
    "    p1=[]\n",
    "    for s in test:\n",
    "        p1.append(generate_candidate_phrases(s,stop))\n",
    "    words=sum(p1,[])\n",
    "    ##remove uncommon words\n",
    "    candidates=[]\n",
    "    for a in words:\n",
    "        if a in model.wv:\n",
    "            candidates.append(a)\n",
    "    ##calculate similarity\n",
    "    sim=[[0]*len(candidates) for _ in range(len(candidates))]\n",
    "    for i in range(len(candidates)):\n",
    "        for j in range(i,len(candidates)):\n",
    "            d=model.wv.similarity(candidates[i],candidates[j])\n",
    "            sim[i][j]=d\n",
    "            sim[j][i]=d\n",
    "    sim=np.array(sim)\n",
    "    dis = sim.copy()\n",
    "    dis = 1. - dis\n",
    "    ##DBSCAN\n",
    "   \n",
    "    db = DBSCAN(metric=\"precomputed\",algorithm=\"brute\",eps=eps, min_samples=minspl).fit(dis)\n",
    "    labels = db.labels_\n",
    "    core=db.core_sample_indices_\n",
    "    n_clusters_ = len(set(labels)) - (1 if -1 in labels else 0)\n",
    "    group=[[]*n_clusters_ for _ in range(n_clusters_)]\n",
    "    for i in core:\n",
    "        j=int(labels[i])\n",
    "        group[j].append(candidates[i])\n",
    "    result=[]\n",
    "    for i in range(len(group)):\n",
    "        re=group[i]\n",
    "        if len(set(re))==1:\n",
    "            result.append(re[0])\n",
    "        else:\n",
    "            cnt = Counter(re)\n",
    "            a=cnt.most_common(1)\n",
    "            result.append(a[0][0])\n",
    "    return result\n"
   ]
  },
  {
   "cell_type": "code",
   "execution_count": 61,
   "metadata": {},
   "outputs": [
    {
     "name": "stdout",
     "output_type": "stream",
     "text": [
      "['dirtiest_places', 'health_inspections', 'rude_staff', 'kensington_location']\n"
     ]
    }
   ],
   "source": [
    "print(get_predict('ikCg8xy5JIg_NGPx-MSIDA')) ##review number=15"
   ]
  },
  {
   "cell_type": "code",
   "execution_count": 62,
   "metadata": {},
   "outputs": [
    {
     "name": "stdout",
     "output_type": "stream",
     "text": [
      "['sports_grill', 'sports_bars', 'pool_tables', 'watch_game', 'happy_hour']\n"
     ]
    }
   ],
   "source": [
    "print(get_predict('zvO-PJCpNk4fgAVUnExYAA'))  ##review number=29"
   ]
  },
  {
   "cell_type": "code",
   "execution_count": 487,
   "metadata": {},
   "outputs": [
    {
     "name": "stdout",
     "output_type": "stream",
     "text": [
      "['pizza_pazzi', 'favourite_restaurant', 'italian_food', 'tomato_sauce', 'great_service', 'second_time', 'reasonably_priced', 'rice_balls', 'fried_risotto_balls']\n"
     ]
    }
   ],
   "source": [
    "print(get_predict('ERnG-1q3igX3VSgm5uLZ6A')) ##review number=74"
   ]
  },
  {
   "cell_type": "code",
   "execution_count": 58,
   "metadata": {},
   "outputs": [
    {
     "name": "stdout",
     "output_type": "stream",
     "text": [
      "['crab_tortellini', 'highly_recommend', 'best_italian_food', 'large_party', 'garlic_bread', 'good_pizzas']\n"
     ]
    }
   ],
   "source": [
    "print(get_predict(\"eU_713ec6fTGNO4BegRaww\")) ##review number=135"
   ]
  },
  {
   "cell_type": "code",
   "execution_count": 125,
   "metadata": {},
   "outputs": [
    {
     "name": "stdout",
     "output_type": "stream",
     "text": [
      "['lola_fries', 'turkey_burger', 'crocker_park', 'dont_know', 'pulled_pork', 'beer_selection', 'onion_rings', 'happy_hour', 'seated_right_away', 'veggie_burger', 'grilled_cheese', 'provolone_cheese']\n"
     ]
    }
   ],
   "source": [
    "print(get_predict('KR2kRmHnRCaNzOUEGoB25w')) ##review number=279"
   ]
  },
  {
   "cell_type": "code",
   "execution_count": 128,
   "metadata": {},
   "outputs": [
    {
     "name": "stdout",
     "output_type": "stream",
     "text": [
      "['kensington_market', 'mexican_food', 'reasonably_priced', 'fish_tacos', 'pretty_good', 'pico_gallo', 'fish_taco', 'chicken_tacos']\n"
     ]
    }
   ],
   "source": [
    "print(get_predict('Bf2fuqWbHd3L-X69FSMvmg'))##review number=313"
   ]
  },
  {
   "cell_type": "code",
   "execution_count": 83,
   "metadata": {},
   "outputs": [
    {
     "name": "stdout",
     "output_type": "stream",
     "text": [
      "['indian_food', 'dont_know', 'fast_food', 'great_food', 'lamb_meatballs', 'hand_washing_station', 'chicken_bowl', 'cant_wait', 'pretty_good']\n"
     ]
    }
   ],
   "source": [
    "print(get_predict('NyLYY8q1-H3hfsTwuwLPCg'))##review number=547"
   ]
  },
  {
   "cell_type": "code",
   "execution_count": 78,
   "metadata": {},
   "outputs": [
    {
     "name": "stdout",
     "output_type": "stream",
     "text": [
      "['pinball_machines', 'highly_recommend', 'good_time', 'great_selection', 'great_place', 'great_time', 'memory_lane', 'favorite_places', 'pretty_cool', 'cool_place', 'long_time', 'couple_hours', 'perfect_place', 'dont_think', 'awesome_place', 'dont_know', 'spend_hours']\n"
     ]
    }
   ],
   "source": [
    "print(get_predict('8mIrX_LrOnAqWsB5JrOojQ'))##review number=1289"
   ]
  },
  {
   "cell_type": "code",
   "execution_count": 79,
   "metadata": {},
   "outputs": [
    {
     "name": "stdout",
     "output_type": "stream",
     "text": [
      "['pork_fried_rice', 'jade_chicken', 'ordering_process', 'black_beans', 'white_rice', 'wall_restaurant', 'free_cookie', 'fried_rice', 'snickerdoodle_cookie', 'favorite_restaurant', 'mexican_food', 'chinese_food', 'teriyaki_chicken', 'cant_wait', 'amazing_food', 'chandler_location', 'great_food', 'dont_know', 'strip_mall', 'great_place', 'pretty_good', 'dining_area', 'panda_express', 'snicker_doodle_cookie', 'chicken_fried_rice', 'favorite_places', 'food_network', 'good_food', 'dont_think', 'orange_chicken', 'best_food', 'oatmeal_raisin', 'ordering_system', 'dining_room', 'slight_sweetness']\n"
     ]
    }
   ],
   "source": [
    "print(get_predict('cHdJXLlKNWixBXpDwEGb_A'))##review number=1636"
   ]
  },
  {
   "cell_type": "code",
   "execution_count": 549,
   "metadata": {},
   "outputs": [],
   "source": [
    "from nltk.tokenize import word_tokenize\n",
    "from itertools import chain \n",
    "from nltk.collocations import *\n",
    "from textblob import Word\n",
    "\n",
    "\n",
    "def quickversion(id):\n",
    "    test=res_review[\"text\"][res_review.business_id==id]\n",
    "    l=len(test)\n",
    "    if l<30:\n",
    "        getpmi(test,3,2,5,2)\n",
    "    elif l<60:\n",
    "        getpmi(test,3,2,8,3)\n",
    "    elif l<100:\n",
    "        getpmi(test,5,3,6,4)\n",
    "    elif l<200:\n",
    "        getpmi(test,8,4,6,6)\n",
    "    elif l<1000:\n",
    "        getpmi(test,20,15,8,6)\n",
    "    else:\n",
    "        getpmi(test,25,20,10,6)\n",
    "        \n",
    "def getpmi(test,n,m,n2,n3):\n",
    "    p=[]\n",
    "    porter = PorterStemmer()\n",
    "    for s in test:\n",
    "        t=nltk.word_tokenize(s.lower())\n",
    "       \n",
    "        filtered_sentence = [w for w in t if w not in stop] \n",
    "        filtered_sentence1 = [w for w in filtered_sentence if len(w)>3]\n",
    "        filtered_sentence2 = [Word(w).lemmatize() for w in filtered_sentence1] \n",
    "        filtered_sentence3 = [w.translate(str.maketrans('', '', string.punctuation)) for w in filtered_sentence2] \n",
    "        p.append(filtered_sentence3)\n",
    "\n",
    "    bigram_measures = nltk.collocations.BigramAssocMeasures()\n",
    "    trigram_measures = nltk.collocations.TrigramAssocMeasures()\n",
    "\n",
    "    flatten_list = list(chain.from_iterable(p))\n",
    "    finder = BigramCollocationFinder.from_words(flatten_list)\n",
    "    finder1 = TrigramCollocationFinder.from_words(flatten_list)\n",
    "    # only bigrams that appear 3+ times\n",
    "    finder.apply_freq_filter(n)\n",
    "    finder1.apply_freq_filter(m)\n",
    "\n",
    "    # return the 10 n-grams with the highest PMI\n",
    "    r2=finder.nbest(bigram_measures.pmi, n2)\n",
    "    r3=finder1.nbest(trigram_measures.pmi, n3)\n",
    "    result=[]\n",
    "    if len(r3)>0:\n",
    "        for i in range(len(r3)):\n",
    "            a3=r3[i][0]+\"_\"+r3[i][1]+\"_\"+r3[i][2]\n",
    "            result.append(a3)\n",
    "    all3=''.join(str(elem) for elem in result)\n",
    "    for i in range(len(r2)):\n",
    "        temp=r2[i][0]+\"_\"+r2[i][1]\n",
    "        if temp not in all3:\n",
    "            result.append(temp)\n",
    "    print(result)"
   ]
  },
  {
   "cell_type": "code",
   "execution_count": 550,
   "metadata": {},
   "outputs": [
    {
     "name": "stdout",
     "output_type": "stream",
     "text": [
      "['lunch_steak_sandwich', 'past_health_inspection']\n"
     ]
    }
   ],
   "source": [
    "quickversion('ikCg8xy5JIg_NGPx-MSIDA')##redelicview number=15"
   ]
  },
  {
   "cell_type": "code",
   "execution_count": 551,
   "metadata": {},
   "outputs": [
    {
     "name": "stdout",
     "output_type": "stream",
     "text": [
      "['sweet_potato_fry', 'worth_spending_money', 'happy_hour', 'pool_table', 'service_slow', 'watch_game', 'playoff_game']\n"
     ]
    }
   ],
   "source": [
    "quickversion('zvO-PJCpNk4fgAVUnExYAA') ##review number=29"
   ]
  },
  {
   "cell_type": "code",
   "execution_count": 552,
   "metadata": {},
   "outputs": [
    {
     "name": "stdout",
     "output_type": "stream",
     "text": [
      "['fried_risotto_ball', 'authentic_neapolitan_pizza', 'tomato_sauce', 'authentic_italian', 'italian_food', 'pizza_pazzi']\n"
     ]
    }
   ],
   "source": [
    "quickversion('ERnG-1q3igX3VSgm5uLZ6A')  ##review number=74"
   ]
  },
  {
   "cell_type": "code",
   "execution_count": 553,
   "metadata": {},
   "outputs": [
    {
     "name": "stdout",
     "output_type": "stream",
     "text": [
      "['pepper_cream_sauce', 'shrimp_crab_tortellini', 'italian_wedding_soup', 'best_italian_food', 'cooking_class', 'highly_recommend', 'garlic_bread', 'tavola_italiana', 'large_group']\n"
     ]
    }
   ],
   "source": [
    "quickversion(\"eU_713ec6fTGNO4BegRaww\")  ##review number=135"
   ]
  },
  {
   "cell_type": "code",
   "execution_count": 554,
   "metadata": {},
   "outputs": [
    {
     "name": "stdout",
     "output_type": "stream",
     "text": [
      "['authentic_mexican_food', 'pico_gallo', 'kensington_market', 'corn_tortilla', 'fish_taco', 'mexican_restaurant', 'taco_pastor']\n"
     ]
    }
   ],
   "source": [
    "quickversion('Bf2fuqWbHd3L-X69FSMvmg')##review number=313"
   ]
  },
  {
   "cell_type": "code",
   "execution_count": 555,
   "metadata": {},
   "outputs": [
    {
     "name": "stdout",
     "output_type": "stream",
     "text": [
      "['chicken_tikka_masala', 'tikka_masala_bowl', 'tikka_masala_sauce', 'chipotle_indian_food', 'indian_fast_food', 'indian_food_place', 'highly_recommend', 'lamb_meatball', 'hand_washing', 'mango_lassi', 'samosa_chaat', 'fast_casual', 'wheat_naan']\n"
     ]
    }
   ],
   "source": [
    "quickversion('NyLYY8q1-H3hfsTwuwLPCg') ##review number=547"
   ]
  },
  {
   "cell_type": "code",
   "execution_count": 556,
   "metadata": {},
   "outputs": [
    {
     "name": "stdout",
     "output_type": "stream",
     "text": [
      "['super_mario_bros', 'pinball_hall_fame', 'row_row_pinball', 'school_arcade_game', 'classic_arcade_game', 'row_pinball_machine', 'salvation_army', 'donkey_kong', 'highly_recommend', 'memory_lane', 'star_war', 'star_trek', 'go_charity']\n"
     ]
    }
   ],
   "source": [
    "quickversion('8mIrX_LrOnAqWsB5JrOojQ') ##review number=1289"
   ]
  },
  {
   "cell_type": "code",
   "execution_count": null,
   "metadata": {},
   "outputs": [],
   "source": []
  }
 ],
 "metadata": {
  "kernelspec": {
   "display_name": "Python 3",
   "language": "python",
   "name": "python3"
  },
  "language_info": {
   "codemirror_mode": {
    "name": "ipython",
    "version": 3
   },
   "file_extension": ".py",
   "mimetype": "text/x-python",
   "name": "python",
   "nbconvert_exporter": "python",
   "pygments_lexer": "ipython3",
   "version": "3.6.8"
  }
 },
 "nbformat": 4,
 "nbformat_minor": 2
}
