{
 "cells": [
  {
   "cell_type": "code",
   "execution_count": 89,
   "metadata": {},
   "outputs": [],
   "source": [
    "import json \n",
    "import pandas as pd \n",
    "from pandas.io.json import json_normalize #package for flattening json in pandas df\n",
    "\n",
    "#load json object\n",
    "    \n",
    "json_data = ''\n",
    "\n",
    "with open('yelp_dataset/review.json', 'r', encoding='utf-8') as in_file:\n",
    "    for i, line in enumerate(in_file):\n",
    "        if i == 0 and line: \n",
    "            json_data += '[' + line\n",
    "        elif line:\n",
    "            json_data += ',' + line\n",
    "        else:\n",
    "            pass\n",
    "    json_data += ']\\n'\n",
    "\n",
    "data = json.loads(json_data)\n",
    "review_df = json_normalize(data)\n"
   ]
  },
  {
   "cell_type": "code",
   "execution_count": 90,
   "metadata": {},
   "outputs": [],
   "source": [
    "import json \n",
    "import pandas as pd \n",
    "from pandas.io.json import json_normalize #package for flattening json in pandas df\n",
    "\n",
    "#load json object\n",
    "    \n",
    "json_data = ''\n",
    "\n",
    "with open('yelp_dataset/business.json', 'r', encoding='utf-8') as in_file:\n",
    "    for i, line in enumerate(in_file):\n",
    "        if i == 0 and line: \n",
    "            json_data += '[' + line\n",
    "        elif line:\n",
    "            json_data += ',' + line\n",
    "        else:\n",
    "            pass\n",
    "    json_data += ']\\n'\n",
    "\n",
    "data = json.loads(json_data)\n",
    "df = json_normalize(data)\n"
   ]
  },
  {
   "cell_type": "code",
   "execution_count": 258,
   "metadata": {},
   "outputs": [
    {
     "data": {
      "text/html": [
       "<div>\n",
       "<style scoped>\n",
       "    .dataframe tbody tr th:only-of-type {\n",
       "        vertical-align: middle;\n",
       "    }\n",
       "\n",
       "    .dataframe tbody tr th {\n",
       "        vertical-align: top;\n",
       "    }\n",
       "\n",
       "    .dataframe thead th {\n",
       "        text-align: right;\n",
       "    }\n",
       "</style>\n",
       "<table border=\"1\" class=\"dataframe\">\n",
       "  <thead>\n",
       "    <tr style=\"text-align: right;\">\n",
       "      <th></th>\n",
       "      <th>categories</th>\n",
       "      <th>business_id</th>\n",
       "    </tr>\n",
       "  </thead>\n",
       "  <tbody>\n",
       "    <tr>\n",
       "      <th>1</th>\n",
       "      <td>Specialty Food, Restaurants, Dim Sum, Imported Food, Food, Chinese, Ethnic Food, Seafood</td>\n",
       "      <td>QXAEGFB4oINsVuTFxEYKFQ</td>\n",
       "    </tr>\n",
       "    <tr>\n",
       "      <th>2</th>\n",
       "      <td>Sushi Bars, Restaurants, Japanese</td>\n",
       "      <td>gnKjwL_1w79qoiV3IC_xQQ</td>\n",
       "    </tr>\n",
       "    <tr>\n",
       "      <th>11</th>\n",
       "      <td>Restaurants, Breakfast &amp; Brunch, Mexican, Tacos, Tex-Mex, Fast Food</td>\n",
       "      <td>1Dfx3zM-rW4n-31KeC8sJg</td>\n",
       "    </tr>\n",
       "    <tr>\n",
       "      <th>13</th>\n",
       "      <td>Italian, Restaurants, Pizza, Chicken Wings</td>\n",
       "      <td>fweCYi8FmbJXHCqLnwuk8w</td>\n",
       "    </tr>\n",
       "    <tr>\n",
       "      <th>17</th>\n",
       "      <td>Restaurants, Italian</td>\n",
       "      <td>PZ-LZzSlhSe9utkQYU8pFg</td>\n",
       "    </tr>\n",
       "  </tbody>\n",
       "</table>\n",
       "</div>"
      ],
      "text/plain": [
       "                                                                                  categories  \\\n",
       "1   Specialty Food, Restaurants, Dim Sum, Imported Food, Food, Chinese, Ethnic Food, Seafood   \n",
       "2                                                          Sushi Bars, Restaurants, Japanese   \n",
       "11                       Restaurants, Breakfast & Brunch, Mexican, Tacos, Tex-Mex, Fast Food   \n",
       "13                                                Italian, Restaurants, Pizza, Chicken Wings   \n",
       "17                                                                      Restaurants, Italian   \n",
       "\n",
       "               business_id  \n",
       "1   QXAEGFB4oINsVuTFxEYKFQ  \n",
       "2   gnKjwL_1w79qoiV3IC_xQQ  \n",
       "11  1Dfx3zM-rW4n-31KeC8sJg  \n",
       "13  fweCYi8FmbJXHCqLnwuk8w  \n",
       "17  PZ-LZzSlhSe9utkQYU8pFg  "
      ]
     },
     "execution_count": 258,
     "metadata": {},
     "output_type": "execute_result"
    }
   ],
   "source": [
    "temp = df.categories.apply(lambda categories: str(categories))\n",
    "restaurant_df = df[temp.apply(lambda categories: 'Restaurants' in categories)][['categories',\"business_id\"]]\n",
    "restaurant_df.head()\n"
   ]
  },
  {
   "cell_type": "code",
   "execution_count": 259,
   "metadata": {},
   "outputs": [],
   "source": [
    "res_review = pd.merge(review_df,restaurant_df,on = 'business_id', how = 'left', sort = False)\n",
    "res_review=res_review.fillna(0)"
   ]
  },
  {
   "cell_type": "code",
   "execution_count": 261,
   "metadata": {},
   "outputs": [
    {
     "data": {
      "text/html": [
       "<div>\n",
       "<style scoped>\n",
       "    .dataframe tbody tr th:only-of-type {\n",
       "        vertical-align: middle;\n",
       "    }\n",
       "\n",
       "    .dataframe tbody tr th {\n",
       "        vertical-align: top;\n",
       "    }\n",
       "\n",
       "    .dataframe thead th {\n",
       "        text-align: right;\n",
       "    }\n",
       "</style>\n",
       "<table border=\"1\" class=\"dataframe\">\n",
       "  <thead>\n",
       "    <tr style=\"text-align: right;\">\n",
       "      <th></th>\n",
       "      <th>business_id</th>\n",
       "      <th>cool</th>\n",
       "      <th>date</th>\n",
       "      <th>funny</th>\n",
       "      <th>review_id</th>\n",
       "      <th>stars</th>\n",
       "      <th>text</th>\n",
       "      <th>useful</th>\n",
       "      <th>user_id</th>\n",
       "      <th>categories</th>\n",
       "    </tr>\n",
       "  </thead>\n",
       "  <tbody>\n",
       "    <tr>\n",
       "      <th>0</th>\n",
       "      <td>ujmEBvifdJM6h6RLv4wQIg</td>\n",
       "      <td>0</td>\n",
       "      <td>2013-05-07 04:34:36</td>\n",
       "      <td>1</td>\n",
       "      <td>Q1sbwvVQXV2734tPgoKj4Q</td>\n",
       "      <td>1.0</td>\n",
       "      <td>Total bill for this horrible service? Over $8Gs. These crooks actually had the nerve to charge us $69 for 3 pills. I checked online the pills can be had for 19 cents EACH! Avoid Hospital ERs at al...</td>\n",
       "      <td>6</td>\n",
       "      <td>hG7b0MtEbXx5QzbzE6C_VA</td>\n",
       "      <td>0</td>\n",
       "    </tr>\n",
       "    <tr>\n",
       "      <th>1</th>\n",
       "      <td>NZnhc2sEQy3RmzKTZnqtwQ</td>\n",
       "      <td>0</td>\n",
       "      <td>2017-01-14 21:30:33</td>\n",
       "      <td>0</td>\n",
       "      <td>GJXCdrto3ASJOqKeVWPi6Q</td>\n",
       "      <td>5.0</td>\n",
       "      <td>I *adore* Travis at the Hard Rock's new Kelly Cardenas Salon!  I'm always a fan of a great blowout and no stranger to the chains that offer this service; however, Travis has taken the flawless blo...</td>\n",
       "      <td>0</td>\n",
       "      <td>yXQM5uF2jS6es16SJzNHfg</td>\n",
       "      <td>0</td>\n",
       "    </tr>\n",
       "    <tr>\n",
       "      <th>2</th>\n",
       "      <td>WTqjgwHlXbSFevF32_DJVw</td>\n",
       "      <td>0</td>\n",
       "      <td>2016-11-09 20:09:03</td>\n",
       "      <td>0</td>\n",
       "      <td>2TzJjDVDEuAW6MR5Vuc1ug</td>\n",
       "      <td>5.0</td>\n",
       "      <td>I have to say that this office really has it together, they are so organized and friendly!  Dr. J. Phillipp is a great dentist, very friendly and professional.  The dental assistants that helped i...</td>\n",
       "      <td>3</td>\n",
       "      <td>n6-Gk65cPZL6Uz8qRm3NYw</td>\n",
       "      <td>0</td>\n",
       "    </tr>\n",
       "    <tr>\n",
       "      <th>3</th>\n",
       "      <td>ikCg8xy5JIg_NGPx-MSIDA</td>\n",
       "      <td>0</td>\n",
       "      <td>2018-01-09 20:56:38</td>\n",
       "      <td>0</td>\n",
       "      <td>yi0R0Ugj_xUx_Nek0-_Qig</td>\n",
       "      <td>5.0</td>\n",
       "      <td>Went in for a lunch. Steak sandwich was delicious, and the Caesar salad had an absolutely delicious dressing, with a perfect amount of dressing, and distributed perfectly across each leaf. I know ...</td>\n",
       "      <td>0</td>\n",
       "      <td>dacAIZ6fTM6mqwW5uxkskg</td>\n",
       "      <td>Bars, Pubs, Nightlife, Tapas Bars, Restaurants</td>\n",
       "    </tr>\n",
       "    <tr>\n",
       "      <th>4</th>\n",
       "      <td>b1b1eb3uo-w561D0ZfCEiQ</td>\n",
       "      <td>0</td>\n",
       "      <td>2018-01-30 23:07:38</td>\n",
       "      <td>0</td>\n",
       "      <td>11a8sVPMUFtaC7_ABRkmtw</td>\n",
       "      <td>1.0</td>\n",
       "      <td>Today was my second out of three sessions I had paid for. Although my first session went well, I could tell Meredith had a particular enjoyment for her male clients over her female. However, I ret...</td>\n",
       "      <td>7</td>\n",
       "      <td>ssoyf2_x0EQMed6fgHeMyQ</td>\n",
       "      <td>0</td>\n",
       "    </tr>\n",
       "  </tbody>\n",
       "</table>\n",
       "</div>"
      ],
      "text/plain": [
       "              business_id  cool                 date  funny  \\\n",
       "0  ujmEBvifdJM6h6RLv4wQIg     0  2013-05-07 04:34:36      1   \n",
       "1  NZnhc2sEQy3RmzKTZnqtwQ     0  2017-01-14 21:30:33      0   \n",
       "2  WTqjgwHlXbSFevF32_DJVw     0  2016-11-09 20:09:03      0   \n",
       "3  ikCg8xy5JIg_NGPx-MSIDA     0  2018-01-09 20:56:38      0   \n",
       "4  b1b1eb3uo-w561D0ZfCEiQ     0  2018-01-30 23:07:38      0   \n",
       "\n",
       "                review_id  stars  \\\n",
       "0  Q1sbwvVQXV2734tPgoKj4Q    1.0   \n",
       "1  GJXCdrto3ASJOqKeVWPi6Q    5.0   \n",
       "2  2TzJjDVDEuAW6MR5Vuc1ug    5.0   \n",
       "3  yi0R0Ugj_xUx_Nek0-_Qig    5.0   \n",
       "4  11a8sVPMUFtaC7_ABRkmtw    1.0   \n",
       "\n",
       "                                                                                                                                                                                                      text  \\\n",
       "0  Total bill for this horrible service? Over $8Gs. These crooks actually had the nerve to charge us $69 for 3 pills. I checked online the pills can be had for 19 cents EACH! Avoid Hospital ERs at al...   \n",
       "1  I *adore* Travis at the Hard Rock's new Kelly Cardenas Salon!  I'm always a fan of a great blowout and no stranger to the chains that offer this service; however, Travis has taken the flawless blo...   \n",
       "2  I have to say that this office really has it together, they are so organized and friendly!  Dr. J. Phillipp is a great dentist, very friendly and professional.  The dental assistants that helped i...   \n",
       "3  Went in for a lunch. Steak sandwich was delicious, and the Caesar salad had an absolutely delicious dressing, with a perfect amount of dressing, and distributed perfectly across each leaf. I know ...   \n",
       "4  Today was my second out of three sessions I had paid for. Although my first session went well, I could tell Meredith had a particular enjoyment for her male clients over her female. However, I ret...   \n",
       "\n",
       "   useful                 user_id  \\\n",
       "0       6  hG7b0MtEbXx5QzbzE6C_VA   \n",
       "1       0  yXQM5uF2jS6es16SJzNHfg   \n",
       "2       3  n6-Gk65cPZL6Uz8qRm3NYw   \n",
       "3       0  dacAIZ6fTM6mqwW5uxkskg   \n",
       "4       7  ssoyf2_x0EQMed6fgHeMyQ   \n",
       "\n",
       "                                       categories  \n",
       "0                                               0  \n",
       "1                                               0  \n",
       "2                                               0  \n",
       "3  Bars, Pubs, Nightlife, Tapas Bars, Restaurants  \n",
       "4                                               0  "
      ]
     },
     "execution_count": 261,
     "metadata": {},
     "output_type": "execute_result"
    }
   ],
   "source": [
    "res_review.head()\n"
   ]
  },
  {
   "cell_type": "code",
   "execution_count": 262,
   "metadata": {},
   "outputs": [],
   "source": [
    "restaurant_r=res_review[res_review.categories!=0]\n"
   ]
  },
  {
   "cell_type": "code",
   "execution_count": 263,
   "metadata": {},
   "outputs": [
    {
     "data": {
      "text/plain": [
       "(4201684, 10)"
      ]
     },
     "execution_count": 263,
     "metadata": {},
     "output_type": "execute_result"
    }
   ],
   "source": [
    "restaurant_r.shape\n"
   ]
  },
  {
   "cell_type": "code",
   "execution_count": 264,
   "metadata": {},
   "outputs": [
    {
     "data": {
      "text/html": [
       "<div>\n",
       "<style scoped>\n",
       "    .dataframe tbody tr th:only-of-type {\n",
       "        vertical-align: middle;\n",
       "    }\n",
       "\n",
       "    .dataframe tbody tr th {\n",
       "        vertical-align: top;\n",
       "    }\n",
       "\n",
       "    .dataframe thead th {\n",
       "        text-align: right;\n",
       "    }\n",
       "</style>\n",
       "<table border=\"1\" class=\"dataframe\">\n",
       "  <thead>\n",
       "    <tr style=\"text-align: right;\">\n",
       "      <th></th>\n",
       "      <th>business_id</th>\n",
       "      <th>cool</th>\n",
       "      <th>date</th>\n",
       "      <th>funny</th>\n",
       "      <th>review_id</th>\n",
       "      <th>stars</th>\n",
       "      <th>text</th>\n",
       "      <th>useful</th>\n",
       "      <th>user_id</th>\n",
       "      <th>categories</th>\n",
       "    </tr>\n",
       "  </thead>\n",
       "  <tbody>\n",
       "    <tr>\n",
       "      <th>3</th>\n",
       "      <td>ikCg8xy5JIg_NGPx-MSIDA</td>\n",
       "      <td>0</td>\n",
       "      <td>2018-01-09 20:56:38</td>\n",
       "      <td>0</td>\n",
       "      <td>yi0R0Ugj_xUx_Nek0-_Qig</td>\n",
       "      <td>5.0</td>\n",
       "      <td>Went in for a lunch. Steak sandwich was delicious, and the Caesar salad had an absolutely delicious dressing, with a perfect amount of dressing, and distributed perfectly across each leaf. I know ...</td>\n",
       "      <td>0</td>\n",
       "      <td>dacAIZ6fTM6mqwW5uxkskg</td>\n",
       "      <td>Bars, Pubs, Nightlife, Tapas Bars, Restaurants</td>\n",
       "    </tr>\n",
       "    <tr>\n",
       "      <th>5</th>\n",
       "      <td>eU_713ec6fTGNO4BegRaww</td>\n",
       "      <td>0</td>\n",
       "      <td>2013-01-20 13:25:59</td>\n",
       "      <td>0</td>\n",
       "      <td>fdiNeiN_hoCxCMy2wTRW9g</td>\n",
       "      <td>4.0</td>\n",
       "      <td>I'll be the first to admit that I was not excited about going to La Tavolta. Being a food snob, when a group of friends suggested we go for dinner I looked online at the menu and to me there was n...</td>\n",
       "      <td>0</td>\n",
       "      <td>w31MKYsNFMrjhWxxAb5wIw</td>\n",
       "      <td>Restaurants, Italian, Pizza</td>\n",
       "    </tr>\n",
       "    <tr>\n",
       "      <th>6</th>\n",
       "      <td>3fw2X5bZYeW9xCz_zGhOHg</td>\n",
       "      <td>5</td>\n",
       "      <td>2016-05-07 01:21:02</td>\n",
       "      <td>4</td>\n",
       "      <td>G7XHMxG0bx9oBJNECG4IFg</td>\n",
       "      <td>3.0</td>\n",
       "      <td>Tracy dessert had a big name in Hong Kong and the one in First Markham place has been here for many years now! \\n\\nCame in for some Chinese dessert, and I must say their selection has increased tr...</td>\n",
       "      <td>5</td>\n",
       "      <td>jlu4CztcSxrKx56ba1a5AQ</td>\n",
       "      <td>Food, Chinese, Restaurants, Desserts</td>\n",
       "    </tr>\n",
       "    <tr>\n",
       "      <th>7</th>\n",
       "      <td>zvO-PJCpNk4fgAVUnExYAA</td>\n",
       "      <td>1</td>\n",
       "      <td>2010-10-05 19:12:35</td>\n",
       "      <td>1</td>\n",
       "      <td>8e9HxxLjjqc9ez5ezzN7iQ</td>\n",
       "      <td>1.0</td>\n",
       "      <td>This place has gone down hill.  Clearly they have cut back on staff and food quality\\n\\nMany of the reviews were written before the menu changed.  I've been going for years and the food quality ha...</td>\n",
       "      <td>3</td>\n",
       "      <td>d6xvYpyzcfbF_AZ8vMB7QA</td>\n",
       "      <td>Sports Bars, Bars, Restaurants, American (New), Nightlife</td>\n",
       "    </tr>\n",
       "    <tr>\n",
       "      <th>10</th>\n",
       "      <td>8mIrX_LrOnAqWsB5JrOojQ</td>\n",
       "      <td>0</td>\n",
       "      <td>2011-11-30 02:11:15</td>\n",
       "      <td>0</td>\n",
       "      <td>kbtscdyz6lvrtGjD1quQTg</td>\n",
       "      <td>4.0</td>\n",
       "      <td>Like walking back in time, every Saturday morning my sister and I was in a bowling league and after we were done, we'd spend a few quarters playing the pin ball machines until our mother came to p...</td>\n",
       "      <td>0</td>\n",
       "      <td>FIk4lQQu1eTe2EpzQ4xhBA</td>\n",
       "      <td>Performing Arts, Amusement Parks, Museums, Arcades, Arts &amp; Entertainment, Active Life, Restaurants</td>\n",
       "    </tr>\n",
       "  </tbody>\n",
       "</table>\n",
       "</div>"
      ],
      "text/plain": [
       "               business_id  cool                 date  funny  \\\n",
       "3   ikCg8xy5JIg_NGPx-MSIDA     0  2018-01-09 20:56:38      0   \n",
       "5   eU_713ec6fTGNO4BegRaww     0  2013-01-20 13:25:59      0   \n",
       "6   3fw2X5bZYeW9xCz_zGhOHg     5  2016-05-07 01:21:02      4   \n",
       "7   zvO-PJCpNk4fgAVUnExYAA     1  2010-10-05 19:12:35      1   \n",
       "10  8mIrX_LrOnAqWsB5JrOojQ     0  2011-11-30 02:11:15      0   \n",
       "\n",
       "                 review_id  stars  \\\n",
       "3   yi0R0Ugj_xUx_Nek0-_Qig    5.0   \n",
       "5   fdiNeiN_hoCxCMy2wTRW9g    4.0   \n",
       "6   G7XHMxG0bx9oBJNECG4IFg    3.0   \n",
       "7   8e9HxxLjjqc9ez5ezzN7iQ    1.0   \n",
       "10  kbtscdyz6lvrtGjD1quQTg    4.0   \n",
       "\n",
       "                                                                                                                                                                                                       text  \\\n",
       "3   Went in for a lunch. Steak sandwich was delicious, and the Caesar salad had an absolutely delicious dressing, with a perfect amount of dressing, and distributed perfectly across each leaf. I know ...   \n",
       "5   I'll be the first to admit that I was not excited about going to La Tavolta. Being a food snob, when a group of friends suggested we go for dinner I looked online at the menu and to me there was n...   \n",
       "6   Tracy dessert had a big name in Hong Kong and the one in First Markham place has been here for many years now! \\n\\nCame in for some Chinese dessert, and I must say their selection has increased tr...   \n",
       "7   This place has gone down hill.  Clearly they have cut back on staff and food quality\\n\\nMany of the reviews were written before the menu changed.  I've been going for years and the food quality ha...   \n",
       "10  Like walking back in time, every Saturday morning my sister and I was in a bowling league and after we were done, we'd spend a few quarters playing the pin ball machines until our mother came to p...   \n",
       "\n",
       "    useful                 user_id  \\\n",
       "3        0  dacAIZ6fTM6mqwW5uxkskg   \n",
       "5        0  w31MKYsNFMrjhWxxAb5wIw   \n",
       "6        5  jlu4CztcSxrKx56ba1a5AQ   \n",
       "7        3  d6xvYpyzcfbF_AZ8vMB7QA   \n",
       "10       0  FIk4lQQu1eTe2EpzQ4xhBA   \n",
       "\n",
       "                                                                                            categories  \n",
       "3                                                       Bars, Pubs, Nightlife, Tapas Bars, Restaurants  \n",
       "5                                                                          Restaurants, Italian, Pizza  \n",
       "6                                                                 Food, Chinese, Restaurants, Desserts  \n",
       "7                                            Sports Bars, Bars, Restaurants, American (New), Nightlife  \n",
       "10  Performing Arts, Amusement Parks, Museums, Arcades, Arts & Entertainment, Active Life, Restaurants  "
      ]
     },
     "execution_count": 264,
     "metadata": {},
     "output_type": "execute_result"
    }
   ],
   "source": [
    "restaurant_r.head()\n"
   ]
  },
  {
   "cell_type": "code",
   "execution_count": 60,
   "metadata": {},
   "outputs": [
    {
     "name": "stderr",
     "output_type": "stream",
     "text": [
      "[nltk_data] Downloading package stopwords to\n",
      "[nltk_data]     /Users/fionliang/nltk_data...\n",
      "[nltk_data]   Package stopwords is already up-to-date!\n"
     ]
    },
    {
     "data": {
      "text/plain": [
       "True"
      ]
     },
     "execution_count": 60,
     "metadata": {},
     "output_type": "execute_result"
    }
   ],
   "source": [
    "import nltk\n",
    "from nltk import FreqDist\n",
    "nltk.download('stopwords') # run this one time"
   ]
  },
  {
   "cell_type": "code",
   "execution_count": 632,
   "metadata": {},
   "outputs": [],
   "source": [
    "##extract phrases\n",
    "import re\n",
    "import string\n",
    "char_splitter = re.compile(\"[.,;!:()-]?\")\n",
    "def generate_candidate_phrases(text, stopwords):\n",
    "    \"\"\" generate phrases using phrase boundary markers \"\"\"\n",
    "    text=str(text)\n",
    "    # generate approximate phrases with punctation\n",
    "    coarse_candidates = char_splitter.split(text.lower())\n",
    " \n",
    "    candidate_phrases = []\n",
    " \n",
    "    for coarse_phrase\\\n",
    "            in coarse_candidates:\n",
    " \n",
    "        words = re.split(\"\\\\s+\", coarse_phrase)\n",
    "        previous_stop = False\n",
    " \n",
    "        # examine each word to determine if it is a phrase boundary marker or part of a phrase or lone ranger\n",
    "        for w in words:\n",
    " \n",
    "            if w in stopwords and not previous_stop:\n",
    "                # phrase boundary encountered, so put a hard indicator\n",
    "                candidate_phrases.append(\";\")\n",
    "                previous_stop = True\n",
    "            elif w not in stopwords and len(w) > 3:\n",
    "                # keep adding words to list until a phrase boundary is detected\n",
    "                candidate_phrases.append(w.strip())\n",
    "                previous_stop = False\n",
    " \n",
    "    # get a list of candidate phrases without boundary demarcation\n",
    "    phrases = re.split(\";+\", ' '.join(candidate_phrases))   \n",
    "    return list(set(phrase_to_counts(phrases)))\n",
    " \n",
    "def phrase_to_counts(phrases):\n",
    "    \"\"\" strip any white space and send back a count of 1\"\"\"\n",
    "    clean_phrases = []\n",
    "\n",
    "    for p in phrases:\n",
    "        word = p.strip()\n",
    "        word=word.translate(str.maketrans('', '', string.punctuation))\n",
    "        # we only need to count phrases, so ignore unigrams\n",
    "        if len(word) > 1 and ' ' in word:\n",
    "            clean_phrases.append(word.replace(\" \",\"_\"))\n",
    "    return clean_phrases"
   ]
  },
  {
   "cell_type": "code",
   "execution_count": 597,
   "metadata": {},
   "outputs": [],
   "source": [
    "#load stop_words\n",
    "sp = spacy.load('en') \n",
    "stop=(sp.Defaults.stop_words) "
   ]
  },
  {
   "cell_type": "code",
   "execution_count": 618,
   "metadata": {},
   "outputs": [
    {
     "name": "stderr",
     "output_type": "stream",
     "text": [
      "/Applications/anaconda3/lib/python3.6/site-packages/ipykernel_launcher.py:7: FutureWarning: split() requires a non-empty pattern match.\n",
      "  import sys\n"
     ]
    }
   ],
   "source": [
    "test=res_review[\"text\"]\n",
    "p=[]\n",
    "for s in test:\n",
    "    p.append(generate_candidate_phrases(s,stop))\n",
    "    \n"
   ]
  },
  {
   "cell_type": "code",
   "execution_count": 621,
   "metadata": {},
   "outputs": [
    {
     "name": "stderr",
     "output_type": "stream",
     "text": [
      "WARNING:gensim.models.base_any2vec:Effective 'alpha' higher than previous training cycles\n"
     ]
    },
    {
     "data": {
      "text/plain": [
       "(412929880, 665051370)"
      ]
     },
     "execution_count": 621,
     "metadata": {},
     "output_type": "execute_result"
    }
   ],
   "source": [
    "from gensim.models import Word2Vec\n",
    "model = gensim.models.Word2Vec(\n",
    "        p,\n",
    "        size=100,\n",
    "        window=10,\n",
    "        min_count=5,\n",
    "        workers=10)\n",
    "model.train(p, total_examples=len(p), epochs=10)\n"
   ]
  },
  {
   "cell_type": "code",
   "execution_count": 624,
   "metadata": {},
   "outputs": [
    {
     "data": {
      "text/plain": [
       "[('larger_groups', 0.7983831167221069),\n",
       " ('large_party', 0.7530969381332397),\n",
       " ('larger_parties', 0.7497943043708801),\n",
       " ('large_parties', 0.7362443208694458),\n",
       " ('small_party', 0.7193818688392639),\n",
       " ('smaller_group', 0.6971537470817566),\n",
       " ('larger_group', 0.6930320262908936),\n",
       " ('accommodate_large_groups', 0.684049129486084),\n",
       " ('group_larger', 0.6805683970451355),\n",
       " ('large_group_people', 0.6674937009811401)]"
      ]
     },
     "execution_count": 624,
     "metadata": {},
     "output_type": "execute_result"
    }
   ],
   "source": [
    "w1=['large_groups']\n",
    "model.wv.most_similar(w1)\n"
   ]
  },
  {
   "cell_type": "code",
   "execution_count": 626,
   "metadata": {},
   "outputs": [
    {
     "data": {
      "text/plain": [
       "[('absolutely_recommend', 0.6658951044082642),\n",
       " ('100_recommend', 0.5650992393493652),\n",
       " ('strongly_recommend', 0.5399513840675354),\n",
       " ('highly_recommend_going', 0.5207186937332153),\n",
       " ('highly_recommend_coming', 0.5160516500473022),\n",
       " ('totally_recommend', 0.48273563385009766),\n",
       " ('highly_recommend_checking', 0.4705720543861389),\n",
       " ('certainly_recommend', 0.4581899642944336),\n",
       " ('highly_recomend', 0.45306915044784546),\n",
       " ('good_highly_recommend', 0.4509795904159546)]"
      ]
     },
     "execution_count": 626,
     "metadata": {},
     "output_type": "execute_result"
    }
   ],
   "source": [
    "w1=['highly_recommend']\n",
    "model.wv.most_similar(w1)"
   ]
  },
  {
   "cell_type": "code",
   "execution_count": 628,
   "metadata": {},
   "outputs": [
    {
     "data": {
      "text/plain": [
       "[('feeling_comfortable', 0.6553308963775635),\n",
       " ('extremely_nervous', 0.6514464020729065),\n",
       " ('felt_totally', 0.6305466294288635),\n",
       " ('felt_cared', 0.6293494701385498),\n",
       " ('feel_relaxed', 0.6255077123641968),\n",
       " ('hated_going', 0.6236050724983215),\n",
       " ('great_listener', 0.6157219409942627),\n",
       " ('felt_welcome', 0.6133273839950562),\n",
       " ('genuinely_cares', 0.6111847758293152),\n",
       " ('feel_calm', 0.609054684638977)]"
      ]
     },
     "execution_count": 628,
     "metadata": {},
     "output_type": "execute_result"
    }
   ],
   "source": [
    "w1=['feel_comfortable']\n",
    "model.wv.most_similar(w1)"
   ]
  },
  {
   "cell_type": "code",
   "execution_count": 633,
   "metadata": {},
   "outputs": [
    {
     "name": "stderr",
     "output_type": "stream",
     "text": [
      "/Applications/anaconda3/lib/python3.6/site-packages/ipykernel_launcher.py:7: FutureWarning: split() requires a non-empty pattern match.\n",
      "  import sys\n"
     ]
    }
   ],
   "source": [
    "test1=res_review[\"text\"][res_review.business_id=='ikCg8xy5JIg_NGPx-MSIDA']\n",
    "\n",
    "\n",
    "p1=[]\n",
    "for s in test1:\n",
    "    p1.append(generate_candidate_phrases(s,stop_words))\n",
    "words=sum(p1,[])"
   ]
  },
  {
   "cell_type": "code",
   "execution_count": 639,
   "metadata": {},
   "outputs": [],
   "source": [
    "candidates=[]\n",
    "for a in words:\n",
    "    if a in model.wv:\n",
    "        candidates.append(a)"
   ]
  },
  {
   "cell_type": "code",
   "execution_count": 640,
   "metadata": {},
   "outputs": [],
   "source": [
    "sim=[[0]*len(candidates) for _ in range(len(candidates))]\n",
    "for i in range(len(candidates)):\n",
    "    for j in range(i,len(candidates)):\n",
    "        d=model.wv.similarity(candidates[i],candidates[j])\n",
    "        sim[i][j]=d\n",
    "        sim[j][i]=d\n",
    "        \n",
    "sim=np.array(sim)"
   ]
  },
  {
   "cell_type": "code",
   "execution_count": 641,
   "metadata": {},
   "outputs": [],
   "source": [
    "dis = sim.copy()\n",
    "dis = 1. - dis"
   ]
  },
  {
   "cell_type": "code",
   "execution_count": 672,
   "metadata": {},
   "outputs": [],
   "source": [
    "from sklearn.cluster import DBSCAN\n",
    "key=np.reshape(keys,(1,-1))\n",
    "db = DBSCAN(metric=\"precomputed\",algorithm=\"brute\",eps=0.5, min_samples=4).fit(dis)\n",
    "#labels = db.labels_"
   ]
  },
  {
   "cell_type": "code",
   "execution_count": 673,
   "metadata": {},
   "outputs": [
    {
     "data": {
      "text/plain": [
       "array([ 6,  7,  8,  9, 13, 14, 15, 17, 28, 29, 30, 31, 32, 33, 34, 35, 36,\n",
       "       41])"
      ]
     },
     "execution_count": 673,
     "metadata": {},
     "output_type": "execute_result"
    }
   ],
   "source": [
    "db.core_sample_indices_"
   ]
  },
  {
   "cell_type": "code",
   "execution_count": 674,
   "metadata": {},
   "outputs": [
    {
     "name": "stdout",
     "output_type": "stream",
     "text": [
      "rude_staff\n",
      "dirtiest_places\n",
      "health_inspections\n",
      "management_spend\n",
      "drink_waitresses\n",
      "bills_ive\n",
      "hoarse_voice\n",
      "five_star\n",
      "awesome_karaoke\n",
      "great_neighborhood_staff\n",
      "sure_looking\n",
      "expensive_sunglasses\n",
      "husbands_wallet\n",
      "rude_staff\n",
      "dirtiest_places\n",
      "health_inspections\n",
      "management_spend\n",
      "need_something\n"
     ]
    }
   ],
   "source": [
    "for i in db.core_sample_indices_:\n",
    "    print(candidates[i])"
   ]
  },
  {
   "cell_type": "code",
   "execution_count": null,
   "metadata": {},
   "outputs": [],
   "source": []
  }
 ],
 "metadata": {
  "kernelspec": {
   "display_name": "Python 3",
   "language": "python",
   "name": "python3"
  },
  "language_info": {
   "codemirror_mode": {
    "name": "ipython",
    "version": 3
   },
   "file_extension": ".py",
   "mimetype": "text/x-python",
   "name": "python",
   "nbconvert_exporter": "python",
   "pygments_lexer": "ipython3",
   "version": "3.6.8"
  }
 },
 "nbformat": 4,
 "nbformat_minor": 2
}
